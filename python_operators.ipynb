{
 "cells": [
  {
   "cell_type": "code",
   "execution_count": 12,
   "id": "178835c1-41dc-44aa-9635-11a816740ec3",
   "metadata": {},
   "outputs": [
    {
     "name": "stdout",
     "output_type": "stream",
     "text": [
      "Sum =  13\n",
      "Difference =  3\n",
      "Product =  40\n",
      "Quotient =  1.6\n"
     ]
    }
   ],
   "source": [
    "# Calculate the sum, difference, product, and quotient of two numbers.\n",
    "\n",
    "a = 8\n",
    "b = 5\n",
    "Sum = a+b\n",
    "difference = a-b\n",
    "product = a*b\n",
    "quotient = a/b\n",
    "print(\"Sum = \",Sum)\n",
    "print(\"Difference = \",difference)\n",
    "print(\"Product = \", product)\n",
    "print(\"Quotient = \",quotient)"
   ]
  },
  {
   "cell_type": "code",
   "execution_count": 15,
   "id": "eb45d39f-b1ec-4fe9-85ed-8ae1d579e5ce",
   "metadata": {},
   "outputs": [
    {
     "name": "stdout",
     "output_type": "stream",
     "text": [
      "Addition =  50\n",
      "Subtraction =  20\n",
      "multiplication =  15\n",
      "Division =  60.0\n"
     ]
    }
   ],
   "source": [
    "# Perform various assignment operations on a variable.\n",
    "\n",
    "# Addition assignment\n",
    "\n",
    "a = 20\n",
    "b = 30\n",
    "b += a\n",
    "print(\"Addition = \",b)\n",
    "\n",
    "# Subtraction assignment\n",
    "\n",
    "c = 30\n",
    "d = 50\n",
    "d -= c\n",
    "print(\"Subtraction = \",d)\n",
    "\n",
    "# Multiplication assignment\n",
    "\n",
    "m = 5\n",
    "n = 3\n",
    "m *= n\n",
    "print(\"multiplication = \",m)\n",
    "\n",
    "# Division assignment\n",
    "\n",
    "p = 360\n",
    "q = 6\n",
    "p /= q\n",
    "print(\"Division = \",p)"
   ]
  },
  {
   "cell_type": "code",
   "execution_count": 10,
   "id": "1440c7fe-ab6d-4de0-9e78-a00837fc5e8a",
   "metadata": {},
   "outputs": [
    {
     "name": "stdout",
     "output_type": "stream",
     "text": [
      "A Equal B =  False\n",
      "A is Not Equal B =  True\n",
      "A Greater Than B =  False\n",
      "A Less Than B =  True\n",
      "A Greater Than or Equal to B =  False\n",
      "A Less Than or Equal to B =  True\n"
     ]
    }
   ],
   "source": [
    "# Compare two numbers and print the results.\n",
    "\n",
    "a = 35\n",
    "b = 55\n",
    "\n",
    "# Equal to\n",
    "print(\"A Equal B = \",a == b)\n",
    "\n",
    "# Not equal to\n",
    "print(\"A is Not Equal B = \",a != b)\n",
    "\n",
    "# Greater than\n",
    "print(\"A Greater Than B = \",a > b)\n",
    "\n",
    "# less than\n",
    "print(\"A Less Than B = \",a < b)\n",
    "\n",
    "# Greater than or equal to\n",
    "print(\"A Greater Than or Equal to B = \",a >= b)\n",
    "\n",
    "# Less than or equal to\n",
    "print(\"A Less Than or Equal to B = \",a <= b)"
   ]
  },
  {
   "cell_type": "code",
   "execution_count": 9,
   "id": "8d10704f-262e-43c1-87da-c72ece39ae1c",
   "metadata": {},
   "outputs": [
    {
     "name": "stdout",
     "output_type": "stream",
     "text": [
      "A and B =  False\n",
      "A or B =  True\n",
      "not A =  False\n"
     ]
    }
   ],
   "source": [
    "# Check conditions using logical operators.\n",
    "\n",
    "a = True\n",
    "b = False\n",
    "\n",
    "# AND operator\n",
    "a_and_b = a and b\n",
    "print(\"A and B = \",a_and_b)\n",
    "\n",
    "# OR operator\n",
    "a_or_b = a or b\n",
    "print(\"A or B = \",a_or_b)\n",
    "\n",
    "# NOT operator\n",
    "not_a = not a\n",
    "print(\"not A = \",not_a)"
   ]
  },
  {
   "cell_type": "code",
   "execution_count": 8,
   "id": "e401fb12-059e-4c60-ac3d-e95cdc0fff09",
   "metadata": {},
   "outputs": [
    {
     "name": "stdout",
     "output_type": "stream",
     "text": [
      "A is B =  True\n",
      "A is not B =  False\n"
     ]
    }
   ],
   "source": [
    "# Check the identity of variables.\n",
    "\n",
    "a = None\n",
    "b = None\n",
    "\n",
    "a_is_b = a is b\n",
    "print(\"A is B = \",a_is_b)\n",
    "\n",
    "a_is_not_b = a is not b\n",
    "print(\"A is not B = \",a_is_not_b)"
   ]
  },
  {
   "cell_type": "code",
   "execution_count": 4,
   "id": "e0996e62-a793-4779-a858-d0b374467e75",
   "metadata": {},
   "outputs": [
    {
     "name": "stdout",
     "output_type": "stream",
     "text": [
      "Bitwise AND: 4\n",
      "Bitwise OR: 31\n",
      "Bitwise XOR: 27\n",
      "Bitwise NOT of a: -21\n",
      "Left shift of a: 40\n",
      "Right shift of a: 10\n"
     ]
    }
   ],
   "source": [
    "# Perform bitwise operations on any two integers.\n",
    "\n",
    "a = 20  \n",
    "b = 15  \n",
    "\n",
    "# Bitwise AND\n",
    "result_and = a & b\n",
    "print(\"Bitwise AND:\", result_and)\n",
    "\n",
    "# Bitwise OR\n",
    "result_or = a | b\n",
    "print(\"Bitwise OR:\", result_or)\n",
    "\n",
    "# Bitwise XOR\n",
    "result_xor = a ^ b\n",
    "print(\"Bitwise XOR:\", result_xor)\n",
    "\n",
    "# Bitwise NOT\n",
    "result_not_a = ~a\n",
    "print(\"Bitwise NOT of a:\", result_not_a)\n",
    "\n",
    "# Left shift\n",
    "result_left_shift = a << 1\n",
    "print(\"Left shift of a:\", result_left_shift)\n",
    "\n",
    "# Right shift\n",
    "result_right_shift = a >> 1\n",
    "print(\"Right shift of a:\", result_right_shift)"
   ]
  },
  {
   "cell_type": "code",
   "execution_count": 16,
   "id": "aa8f61f2-5e17-4b47-b660-2bf9477e6456",
   "metadata": {},
   "outputs": [
    {
     "name": "stdout",
     "output_type": "stream",
     "text": [
      "A =  -10\n"
     ]
    }
   ],
   "source": [
    "# Use unary operators to change the sign of a number.\n",
    "\n",
    "A = 10\n",
    "A = -A\n",
    "print(\"A = \",A)"
   ]
  },
  {
   "cell_type": "code",
   "execution_count": 17,
   "id": "1cb1ff7d-ed13-4d65-8871-7bdfb78a7840",
   "metadata": {},
   "outputs": [
    {
     "name": "stdout",
     "output_type": "stream",
     "text": [
      "Result =  Odd\n"
     ]
    }
   ],
   "source": [
    "# Use the ternary operator to assign values based on conditions.\n",
    "\n",
    "a = 9\n",
    "result = \"Even\" if a % 2 == 0 else \"Odd\"\n",
    "print(\"Result = \", result)"
   ]
  },
  {
   "cell_type": "code",
   "execution_count": null,
   "id": "f4378620-7002-4d13-af29-0758695478dc",
   "metadata": {},
   "outputs": [],
   "source": []
  }
 ],
 "metadata": {
  "kernelspec": {
   "display_name": "Python 3 (ipykernel)",
   "language": "python",
   "name": "python3"
  },
  "language_info": {
   "codemirror_mode": {
    "name": "ipython",
    "version": 3
   },
   "file_extension": ".py",
   "mimetype": "text/x-python",
   "name": "python",
   "nbconvert_exporter": "python",
   "pygments_lexer": "ipython3",
   "version": "3.10.8"
  }
 },
 "nbformat": 4,
 "nbformat_minor": 5
}
