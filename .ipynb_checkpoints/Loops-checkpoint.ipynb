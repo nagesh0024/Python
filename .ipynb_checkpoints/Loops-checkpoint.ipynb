{
 "cells": [
  {
   "cell_type": "code",
   "execution_count": 4,
   "id": "d73be5dd-f50c-4290-adf0-4f9c5362137d",
   "metadata": {},
   "outputs": [
    {
     "name": "stdout",
     "output_type": "stream",
     "text": [
      "1\n",
      "2\n",
      "3\n",
      "4\n",
      "5\n"
     ]
    }
   ],
   "source": [
    "# Print number from 1 to 5 using a while loop.\n",
    "\n",
    "i = 1\n",
    "while i <= 5:\n",
    "    print(i)\n",
    "    i = i+1"
   ]
  },
  {
   "cell_type": "code",
   "execution_count": 9,
   "id": "6de3cec5-c500-4d37-be63-cea2251adb8b",
   "metadata": {},
   "outputs": [
    {
     "name": "stdout",
     "output_type": "stream",
     "text": [
      "55\n"
     ]
    }
   ],
   "source": [
    "# Calclate the sum of number from 1 to 10 using a while loop.\n",
    "\n",
    "i = 1\n",
    "n = 0\n",
    "while i <= 10:\n",
    "    n = n+i\n",
    "    i = i+1\n",
    "print(n)"
   ]
  },
  {
   "cell_type": "code",
   "execution_count": 11,
   "id": "27031611-2b98-422b-928d-b32b9d1511b3",
   "metadata": {},
   "outputs": [
    {
     "name": "stdout",
     "output_type": "stream",
     "text": [
      "40320\n"
     ]
    }
   ],
   "source": [
    "# Calclate the factorial of a number using a for loop.\n",
    "\n",
    "x = 8\n",
    "fac = 1\n",
    "for i in range(1, x+1):\n",
    "    fac = fac*i\n",
    "print(fac)"
   ]
  },
  {
   "cell_type": "code",
   "execution_count": 12,
   "id": "b868989c-0e9a-41c3-bb84-0dacf03ce256",
   "metadata": {},
   "outputs": [
    {
     "name": "stdout",
     "output_type": "stream",
     "text": [
      "5\n"
     ]
    }
   ],
   "source": [
    "# Count the number of vowels in a string using a for loop.\n",
    "\n",
    "a = \"this Is python program\"\n",
    "vovels = \"aeiouAEIOU\"\n",
    "vovel_count = 0\n",
    "for i in a:\n",
    "    if i in vovels:\n",
    "        vovel_count += 1\n",
    "print(vovel_count)"
   ]
  },
  {
   "cell_type": "code",
   "execution_count": 16,
   "id": "b1a53743-b549-4de2-abe6-b3608813a9ff",
   "metadata": {},
   "outputs": [
    {
     "name": "stdout",
     "output_type": "stream",
     "text": [
      "**********"
     ]
    }
   ],
   "source": [
    "# Print a pattern using nested loop.\n",
    "\n",
    "a = 5\n",
    "for i in range(a):\n",
    "    for j in range(i):\n",
    "    print(\"*\", end = \"\")"
   ]
  },
  {
   "cell_type": "code",
   "execution_count": null,
   "id": "dc5ae8e1-693e-4b65-a5e3-c923b70c7d2a",
   "metadata": {},
   "outputs": [],
   "source": []
  }
 ],
 "metadata": {
  "kernelspec": {
   "display_name": "Python 3 (ipykernel)",
   "language": "python",
   "name": "python3"
  },
  "language_info": {
   "codemirror_mode": {
    "name": "ipython",
    "version": 3
   },
   "file_extension": ".py",
   "mimetype": "text/x-python",
   "name": "python",
   "nbconvert_exporter": "python",
   "pygments_lexer": "ipython3",
   "version": "3.10.8"
  }
 },
 "nbformat": 4,
 "nbformat_minor": 5
}
