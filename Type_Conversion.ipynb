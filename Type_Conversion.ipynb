{
 "cells": [
  {
   "cell_type": "code",
   "execution_count": 6,
   "id": "7dce87a0-5bb1-4a14-8efc-ced33affaf48",
   "metadata": {},
   "outputs": [],
   "source": [
    "# Convert an integer to a floatig-point number.\n",
    "\n",
    "a = 24\n",
    "a = float(a)"
   ]
  },
  {
   "cell_type": "code",
   "execution_count": 9,
   "id": "ff013cbe-da2e-489c-aa3d-bfb847da553a",
   "metadata": {},
   "outputs": [],
   "source": [
    "# Convert a float to an integer.\n",
    "\n",
    "b = 19.5\n",
    "b = int(b)"
   ]
  },
  {
   "cell_type": "code",
   "execution_count": 12,
   "id": "c219373f-b3f8-4720-b0e8-fc12640828c3",
   "metadata": {},
   "outputs": [],
   "source": [
    "# Convert an integer to a strig.\n",
    "\n",
    "x = 25\n",
    "x = str(x)"
   ]
  },
  {
   "cell_type": "code",
   "execution_count": 15,
   "id": "76e62049-f963-4042-b5ab-524b072d3aaa",
   "metadata": {},
   "outputs": [],
   "source": [
    "# Convert a list to a tuple.\n",
    "\n",
    "x = ['a','vijay',1,37,9,True,29.5]\n",
    "x = tuple(x)"
   ]
  },
  {
   "cell_type": "code",
   "execution_count": 22,
   "id": "d95f95e3-2458-4885-b031-6a2ff444bbbf",
   "metadata": {},
   "outputs": [],
   "source": [
    "# Convert a tuple to a list.\n",
    "\n",
    "y = ('sonu',5.4,False,7,8,'z')\n",
    "y = list(y)"
   ]
  },
  {
   "cell_type": "code",
   "execution_count": 23,
   "id": "9b2ce1f8-137b-45da-a3ed-ff2705cd8fc9",
   "metadata": {},
   "outputs": [],
   "source": [
    "# Convert a decimal number to binary.\n",
    "\n",
    "m = 98\n",
    "m = bin(m)"
   ]
  },
  {
   "cell_type": "code",
   "execution_count": 26,
   "id": "3eae14bb-47a0-4826-8b54-7f5b938a69d2",
   "metadata": {},
   "outputs": [],
   "source": [
    "# Convert a non-zero number to boolean.\n",
    "\n",
    "n = 12\n",
    "n = bool(n)"
   ]
  },
  {
   "cell_type": "code",
   "execution_count": null,
   "id": "07205f19-9b48-4869-802e-fa93632b7981",
   "metadata": {},
   "outputs": [],
   "source": []
  }
 ],
 "metadata": {
  "kernelspec": {
   "display_name": "Python 3 (ipykernel)",
   "language": "python",
   "name": "python3"
  },
  "language_info": {
   "codemirror_mode": {
    "name": "ipython",
    "version": 3
   },
   "file_extension": ".py",
   "mimetype": "text/x-python",
   "name": "python",
   "nbconvert_exporter": "python",
   "pygments_lexer": "ipython3",
   "version": "3.10.8"
  }
 },
 "nbformat": 4,
 "nbformat_minor": 5
}
